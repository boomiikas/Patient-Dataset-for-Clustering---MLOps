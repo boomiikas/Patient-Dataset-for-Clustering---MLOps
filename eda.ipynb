{
 "cells": [
  {
   "cell_type": "code",
   "execution_count": 1,
   "id": "631094ae",
   "metadata": {},
   "outputs": [],
   "source": [
    "import pandas as pd\n",
    "import numpy as np\n",
    "import matplotlib.pyplot as plt\n",
    "import seaborn as sns"
   ]
  },
  {
   "cell_type": "code",
   "execution_count": 2,
   "id": "7d386d16",
   "metadata": {},
   "outputs": [
    {
     "data": {
      "text/plain": [
       "(6000, 16)"
      ]
     },
     "execution_count": 2,
     "metadata": {},
     "output_type": "execute_result"
    }
   ],
   "source": [
    "df=pd.read_csv('patient_dataset.csv')\n",
    "df.shape"
   ]
  },
  {
   "cell_type": "code",
   "execution_count": 3,
   "id": "40918893",
   "metadata": {},
   "outputs": [
    {
     "data": {
      "text/plain": [
       "Index(['age', 'gender', 'chest_pain_type', 'blood_pressure', 'cholesterol',\n",
       "       'max_heart_rate', 'exercise_angina', 'plasma_glucose', 'skin_thickness',\n",
       "       'insulin', 'bmi', 'diabetes_pedigree', 'hypertension', 'heart_disease',\n",
       "       'residence_type', 'smoking_status'],\n",
       "      dtype='object')"
      ]
     },
     "execution_count": 3,
     "metadata": {},
     "output_type": "execute_result"
    }
   ],
   "source": [
    "df.columns"
   ]
  },
  {
   "cell_type": "code",
   "execution_count": 4,
   "id": "e8f8e6eb",
   "metadata": {},
   "outputs": [
    {
     "name": "stdout",
     "output_type": "stream",
     "text": [
      "<class 'pandas.core.frame.DataFrame'>\n",
      "RangeIndex: 6000 entries, 0 to 5999\n",
      "Data columns (total 16 columns):\n",
      " #   Column             Non-Null Count  Dtype  \n",
      "---  ------             --------------  -----  \n",
      " 0   age                6000 non-null   int64  \n",
      " 1   gender             5528 non-null   float64\n",
      " 2   chest_pain_type    6000 non-null   int64  \n",
      " 3   blood_pressure     6000 non-null   int64  \n",
      " 4   cholesterol        6000 non-null   int64  \n",
      " 5   max_heart_rate     6000 non-null   int64  \n",
      " 6   exercise_angina    6000 non-null   int64  \n",
      " 7   plasma_glucose     5391 non-null   float64\n",
      " 8   skin_thickness     5386 non-null   float64\n",
      " 9   insulin            5432 non-null   float64\n",
      " 10  bmi                6000 non-null   float64\n",
      " 11  diabetes_pedigree  6000 non-null   float64\n",
      " 12  hypertension       6000 non-null   int64  \n",
      " 13  heart_disease      6000 non-null   int64  \n",
      " 14  residence_type     5545 non-null   object \n",
      " 15  smoking_status     6000 non-null   object \n",
      "dtypes: float64(6), int64(8), object(2)\n",
      "memory usage: 750.1+ KB\n"
     ]
    }
   ],
   "source": [
    "df.info()"
   ]
  },
  {
   "cell_type": "code",
   "execution_count": 5,
   "id": "4315a299",
   "metadata": {},
   "outputs": [
    {
     "data": {
      "text/plain": [
       "age                    0\n",
       "gender               472\n",
       "chest_pain_type        0\n",
       "blood_pressure         0\n",
       "cholesterol            0\n",
       "max_heart_rate         0\n",
       "exercise_angina        0\n",
       "plasma_glucose       609\n",
       "skin_thickness       614\n",
       "insulin              568\n",
       "bmi                    0\n",
       "diabetes_pedigree      0\n",
       "hypertension           0\n",
       "heart_disease          0\n",
       "residence_type       455\n",
       "smoking_status         0\n",
       "dtype: int64"
      ]
     },
     "execution_count": 5,
     "metadata": {},
     "output_type": "execute_result"
    }
   ],
   "source": [
    "df.isnull().sum()"
   ]
  },
  {
   "cell_type": "code",
   "execution_count": 6,
   "id": "6a33a1f2",
   "metadata": {},
   "outputs": [
    {
     "data": {
      "text/html": [
       "<div>\n",
       "<style scoped>\n",
       "    .dataframe tbody tr th:only-of-type {\n",
       "        vertical-align: middle;\n",
       "    }\n",
       "\n",
       "    .dataframe tbody tr th {\n",
       "        vertical-align: top;\n",
       "    }\n",
       "\n",
       "    .dataframe thead th {\n",
       "        text-align: right;\n",
       "    }\n",
       "</style>\n",
       "<table border=\"1\" class=\"dataframe\">\n",
       "  <thead>\n",
       "    <tr style=\"text-align: right;\">\n",
       "      <th></th>\n",
       "      <th>age</th>\n",
       "      <th>gender</th>\n",
       "      <th>chest_pain_type</th>\n",
       "      <th>blood_pressure</th>\n",
       "      <th>cholesterol</th>\n",
       "      <th>max_heart_rate</th>\n",
       "      <th>exercise_angina</th>\n",
       "      <th>plasma_glucose</th>\n",
       "      <th>skin_thickness</th>\n",
       "      <th>insulin</th>\n",
       "      <th>bmi</th>\n",
       "      <th>diabetes_pedigree</th>\n",
       "      <th>hypertension</th>\n",
       "      <th>heart_disease</th>\n",
       "      <th>residence_type</th>\n",
       "      <th>smoking_status</th>\n",
       "    </tr>\n",
       "  </thead>\n",
       "  <tbody>\n",
       "    <tr>\n",
       "      <th>0</th>\n",
       "      <td>24</td>\n",
       "      <td>1.0</td>\n",
       "      <td>4</td>\n",
       "      <td>250</td>\n",
       "      <td>139</td>\n",
       "      <td>212</td>\n",
       "      <td>0</td>\n",
       "      <td>108.0</td>\n",
       "      <td>33.0</td>\n",
       "      <td>109.0</td>\n",
       "      <td>37.999303</td>\n",
       "      <td>0.480277</td>\n",
       "      <td>1</td>\n",
       "      <td>1</td>\n",
       "      <td>Urban</td>\n",
       "      <td>Smoker</td>\n",
       "    </tr>\n",
       "    <tr>\n",
       "      <th>1</th>\n",
       "      <td>29</td>\n",
       "      <td>0.0</td>\n",
       "      <td>4</td>\n",
       "      <td>132</td>\n",
       "      <td>187</td>\n",
       "      <td>147</td>\n",
       "      <td>0</td>\n",
       "      <td>202.0</td>\n",
       "      <td>42.0</td>\n",
       "      <td>NaN</td>\n",
       "      <td>25.588346</td>\n",
       "      <td>0.283986</td>\n",
       "      <td>1</td>\n",
       "      <td>1</td>\n",
       "      <td>Urban</td>\n",
       "      <td>Unknown</td>\n",
       "    </tr>\n",
       "    <tr>\n",
       "      <th>2</th>\n",
       "      <td>46</td>\n",
       "      <td>0.0</td>\n",
       "      <td>3</td>\n",
       "      <td>271</td>\n",
       "      <td>185</td>\n",
       "      <td>193</td>\n",
       "      <td>0</td>\n",
       "      <td>149.0</td>\n",
       "      <td>43.0</td>\n",
       "      <td>102.0</td>\n",
       "      <td>37.892029</td>\n",
       "      <td>2.472309</td>\n",
       "      <td>1</td>\n",
       "      <td>0</td>\n",
       "      <td>Rural</td>\n",
       "      <td>Non-Smoker</td>\n",
       "    </tr>\n",
       "    <tr>\n",
       "      <th>3</th>\n",
       "      <td>73</td>\n",
       "      <td>NaN</td>\n",
       "      <td>2</td>\n",
       "      <td>102</td>\n",
       "      <td>200</td>\n",
       "      <td>125</td>\n",
       "      <td>0</td>\n",
       "      <td>105.0</td>\n",
       "      <td>77.0</td>\n",
       "      <td>165.0</td>\n",
       "      <td>18.660241</td>\n",
       "      <td>1.472052</td>\n",
       "      <td>0</td>\n",
       "      <td>1</td>\n",
       "      <td>Rural</td>\n",
       "      <td>Smoker</td>\n",
       "    </tr>\n",
       "    <tr>\n",
       "      <th>4</th>\n",
       "      <td>49</td>\n",
       "      <td>1.0</td>\n",
       "      <td>3</td>\n",
       "      <td>91</td>\n",
       "      <td>163</td>\n",
       "      <td>192</td>\n",
       "      <td>0</td>\n",
       "      <td>162.0</td>\n",
       "      <td>31.0</td>\n",
       "      <td>170.0</td>\n",
       "      <td>12.767980</td>\n",
       "      <td>0.537627</td>\n",
       "      <td>1</td>\n",
       "      <td>1</td>\n",
       "      <td>Rural</td>\n",
       "      <td>Smoker</td>\n",
       "    </tr>\n",
       "  </tbody>\n",
       "</table>\n",
       "</div>"
      ],
      "text/plain": [
       "   age  gender  chest_pain_type  blood_pressure  cholesterol  max_heart_rate  \\\n",
       "0   24     1.0                4             250          139             212   \n",
       "1   29     0.0                4             132          187             147   \n",
       "2   46     0.0                3             271          185             193   \n",
       "3   73     NaN                2             102          200             125   \n",
       "4   49     1.0                3              91          163             192   \n",
       "\n",
       "   exercise_angina  plasma_glucose  skin_thickness  insulin        bmi  \\\n",
       "0                0           108.0            33.0    109.0  37.999303   \n",
       "1                0           202.0            42.0      NaN  25.588346   \n",
       "2                0           149.0            43.0    102.0  37.892029   \n",
       "3                0           105.0            77.0    165.0  18.660241   \n",
       "4                0           162.0            31.0    170.0  12.767980   \n",
       "\n",
       "   diabetes_pedigree  hypertension  heart_disease residence_type  \\\n",
       "0           0.480277             1              1          Urban   \n",
       "1           0.283986             1              1          Urban   \n",
       "2           2.472309             1              0          Rural   \n",
       "3           1.472052             0              1          Rural   \n",
       "4           0.537627             1              1          Rural   \n",
       "\n",
       "  smoking_status  \n",
       "0         Smoker  \n",
       "1        Unknown  \n",
       "2     Non-Smoker  \n",
       "3         Smoker  \n",
       "4         Smoker  "
      ]
     },
     "execution_count": 6,
     "metadata": {},
     "output_type": "execute_result"
    }
   ],
   "source": [
    "df.head()"
   ]
  },
  {
   "cell_type": "code",
   "execution_count": 7,
   "id": "053fd81f",
   "metadata": {},
   "outputs": [
    {
     "data": {
      "text/plain": [
       "array([ 1.,  0., nan])"
      ]
     },
     "execution_count": 7,
     "metadata": {},
     "output_type": "execute_result"
    }
   ],
   "source": [
    "df['gender'].unique()    "
   ]
  },
  {
   "cell_type": "code",
   "execution_count": 8,
   "id": "f307db74",
   "metadata": {},
   "outputs": [
    {
     "data": {
      "text/plain": [
       "array(['Urban', 'Rural', nan], dtype=object)"
      ]
     },
     "execution_count": 8,
     "metadata": {},
     "output_type": "execute_result"
    }
   ],
   "source": [
    "df['residence_type'].unique()"
   ]
  },
  {
   "cell_type": "code",
   "execution_count": 9,
   "id": "49a72d1d",
   "metadata": {},
   "outputs": [
    {
     "data": {
      "text/plain": [
       "array([1, 0])"
      ]
     },
     "execution_count": 9,
     "metadata": {},
     "output_type": "execute_result"
    }
   ],
   "source": [
    "df['heart_disease'].unique()"
   ]
  },
  {
   "cell_type": "code",
   "execution_count": 10,
   "id": "2a0be4cd",
   "metadata": {},
   "outputs": [],
   "source": [
    "from sklearn.impute import SimpleImputer\n",
    "import mlflow"
   ]
  },
  {
   "cell_type": "code",
   "execution_count": 11,
   "id": "799d6053",
   "metadata": {},
   "outputs": [
    {
     "name": "stdout",
     "output_type": "stream",
     "text": [
      "Preprocessing run logged to MLflow\n"
     ]
    }
   ],
   "source": [
    "mlflow.set_experiment(\"Patient_Data_Preprocessing\")\n",
    "with mlflow.start_run(run_name=\"Preprocessing_Run\"):\n",
    "    df[\"gender\"] = df[\"gender\"].map({0.0: \"Female\", 1.0: \"Male\"}).fillna(\"Unknown\")\n",
    "    mlflow.log_param(\"gender_cleaning\", \"0->Female, 1->Male, NaN->Unknown\")\n",
    "    df[\"residence_type\"] = df[\"residence_type\"].fillna(\"Unknown\")\n",
    "    mlflow.log_param(\"residence_type_imputation\", \"Unknown\")\n",
    "\n",
    "    num_cols = [\"plasma_glucose\", \"skin_thickness\", \"insulin\"] #imputation\n",
    "    imputer = SimpleImputer(strategy=\"median\")\n",
    "    df[num_cols] = imputer.fit_transform(df[num_cols])\n",
    "    mlflow.log_param(\"numerical_imputation\", \"SimpleImputer(median)\")\n",
    "    mlflow.log_param(\"imputed_columns\", \",\".join(num_cols))\n",
    "    medians = imputer.statistics_\n",
    "    for col, val in zip(num_cols, medians):\n",
    "        mlflow.log_metric(f\"median_{col}\", val)\n",
    "\n",
    "    mlflow.log_metric(\"total_rows\", df.shape[0]) #dataset info\n",
    "    mlflow.log_metric(\"total_columns\", df.shape[1])\n",
    "    mlflow.log_metric(\"null_values_after_cleaning\", df.isnull().sum().sum())\n",
    "\n",
    "    duplicate_rows = df[df.duplicated()] #duplicates check\n",
    "    num_duplicates = duplicate_rows.shape[0]\n",
    "    mlflow.log_metric(\"duplicate_rows\", num_duplicates)\n",
    "\n",
    "    if num_duplicates > 0: #remove the duplicates\n",
    "        duplicates_path = \"duplicate_rows.csv\"\n",
    "        duplicate_rows.to_csv(duplicates_path, index=False)\n",
    "        mlflow.log_artifact(duplicates_path)\n",
    "        df = df.drop_duplicates()\n",
    "\n",
    "    cleaned_path = \"patient_data_cleaned.csv\" #save \n",
    "    df.to_csv(cleaned_path, index=False)\n",
    "    mlflow.log_artifact(cleaned_path)\n",
    "\n",
    "print(\"Preprocessing run logged to MLflow\")\n"
   ]
  },
  {
   "cell_type": "code",
   "execution_count": 12,
   "id": "d196f4b7",
   "metadata": {},
   "outputs": [
    {
     "name": "stdout",
     "output_type": "stream",
     "text": [
      "Skewness and target balance run logged to MLflow\n"
     ]
    }
   ],
   "source": [
    "df = pd.read_csv(\"patient_data_cleaned.csv\")\n",
    "mlflow.set_experiment(\"Patient_Data_Analysis\")\n",
    "with mlflow.start_run(run_name=\"Skew_and_Target_Balance\"):\n",
    "    numeric_features = [\"age\", \"blood_pressure\", \"cholesterol\", \"max_heart_rate\",\"plasma_glucose\", \"skin_thickness\", \"insulin\", \"bmi\"]\n",
    "\n",
    "    skew_values = df[numeric_features].skew() #check for skew\n",
    "    for col, val in skew_values.items():\n",
    "        mlflow.log_metric(f\"skew_{col}\", val)\n",
    "    highly_skewed = skew_values[abs(skew_values) > 1].index.tolist()\n",
    "    mlflow.log_param(\"highly_skewed_columns\", \",\".join(highly_skewed))\n",
    "\n",
    "    for col in highly_skewed: #log1p \n",
    "        df[col + \"_log1p\"] = np.log1p(df[col])\n",
    "        mlflow.log_metric(f\"skew_{col}_log1p\", df[col + \"_log1p\"].skew())\n",
    "\n",
    "    target = \"heart_disease\" #checks for imbalance\n",
    "    target_counts = df[target].value_counts()\n",
    "    target_percent = df[target].value_counts(normalize=True) * 100\n",
    "    for val, count in target_counts.items():\n",
    "        mlflow.log_metric(f\"target_count_{val}\", count)\n",
    "    for val, pct in target_percent.items():\n",
    "        mlflow.log_metric(f\"target_percent_{val}\", pct)\n",
    "    \n",
    "    trans_csv = \"patient_skew_transformed.csv\" #save\n",
    "    df.to_csv(trans_csv, index=False)\n",
    "    mlflow.log_artifact(trans_csv)\n",
    "\n",
    "\n",
    "print(\"Skewness and target balance run logged to MLflow\")"
   ]
  },
  {
   "cell_type": "code",
   "execution_count": 13,
   "id": "411b43be",
   "metadata": {},
   "outputs": [
    {
     "name": "stdout",
     "output_type": "stream",
     "text": [
      "EDA visualizations logged to MLflow\n"
     ]
    }
   ],
   "source": [
    "df = pd.read_csv(\"patient_dataset.csv\")\n",
    "\n",
    "mlflow.set_experiment(\"Patient_Dataset_Visualization\")\n",
    "\n",
    "with mlflow.start_run(run_name=\"EDA\"):\n",
    "\n",
    "    numeric_cols = [\"age\", \"blood_pressure\", \"cholesterol\", \"max_heart_rate\",\n",
    "                    \"plasma_glucose\", \"skin_thickness\", \"insulin\", \"bmi\"]\n",
    "\n",
    "    skew_values = df[numeric_cols].skew()\n",
    "    highly_skewed = skew_values[abs(skew_values) > 1].index.tolist()\n",
    "    \n",
    "    for col in numeric_cols:\n",
    "        plt.figure(figsize=(6,4))\n",
    "        sns.histplot(df[col], kde=True, color=\"skyblue\")\n",
    "        plt.title(f\"Distribution of {col}\")\n",
    "        if col in highly_skewed:\n",
    "            plt.xlabel(f\"{col} (Highly Skewed)\")\n",
    "        plt.ylabel(\"Count\")\n",
    "        hist_path = f\"hist_{col}.png\"\n",
    "        plt.savefig(hist_path)\n",
    "        plt.close()\n",
    "        mlflow.log_artifact(hist_path)\n",
    "\n",
    "    counts = df[\"heart_disease\"].value_counts()\n",
    "    plt.figure(figsize=(5,5))\n",
    "    plt.pie(counts, labels=[\"No Disease\", \"Disease\"], autopct='%1.1f%%',\n",
    "            colors=[\"skyblue\", \"salmon\"], startangle=90)\n",
    "    plt.title(\"Heart Disease Distribution\")\n",
    "    pie_path = \"heart_disease_pie.png\"\n",
    "    plt.savefig(pie_path)\n",
    "    plt.close()\n",
    "    mlflow.log_artifact(pie_path)\n",
    "\n",
    "    for col in numeric_cols:\n",
    "        plt.figure(figsize=(6,4))\n",
    "        sns.boxplot(x=df[col], color=\"lightgreen\")\n",
    "        Q1 = df[col].quantile(0.25)\n",
    "        Q3 = df[col].quantile(0.75)\n",
    "        IQR = Q3 - Q1\n",
    "        outliers = df[(df[col] < Q1 - 1.5*IQR) | (df[col] > Q3 + 1.5*IQR)][col]\n",
    "        for val in outliers:\n",
    "            plt.text(val, 0.02, f'{val:.1f}', rotation=90, verticalalignment='bottom', fontsize=8, color='red')\n",
    "        plt.title(f\"Boxplot of {col} (Outliers in red)\")\n",
    "        box_path = f\"box_{col}.png\"\n",
    "        plt.savefig(box_path)\n",
    "        plt.close()\n",
    "        mlflow.log_artifact(box_path)\n",
    "\n",
    "print(\"EDA visualizations logged to MLflow\")\n"
   ]
  },
  {
   "cell_type": "code",
   "execution_count": 16,
   "id": "1fe74009",
   "metadata": {},
   "outputs": [
    {
     "data": {
      "text/plain": [
       "array(['Urban', 'Rural', 'Unknown'], dtype=object)"
      ]
     },
     "execution_count": 16,
     "metadata": {},
     "output_type": "execute_result"
    }
   ],
   "source": [
    "df = pd.read_csv(\"patient_data_cleaned.csv\")\n",
    "df['residence_type'].unique()"
   ]
  },
  {
   "cell_type": "code",
   "execution_count": 17,
   "id": "144dae70",
   "metadata": {},
   "outputs": [
    {
     "data": {
      "text/plain": [
       "array(['Smoker', 'Unknown', 'Non-Smoker'], dtype=object)"
      ]
     },
     "execution_count": 17,
     "metadata": {},
     "output_type": "execute_result"
    }
   ],
   "source": [
    "df['smoking_status'].unique()"
   ]
  },
  {
   "cell_type": "code",
   "execution_count": 18,
   "id": "50102733",
   "metadata": {},
   "outputs": [
    {
     "data": {
      "text/plain": [
       "array(['Male', 'Female', 'Unknown'], dtype=object)"
      ]
     },
     "execution_count": 18,
     "metadata": {},
     "output_type": "execute_result"
    }
   ],
   "source": [
    "df['gender'].unique()"
   ]
  }
 ],
 "metadata": {
  "kernelspec": {
   "display_name": "Python 3",
   "language": "python",
   "name": "python3"
  },
  "language_info": {
   "codemirror_mode": {
    "name": "ipython",
    "version": 3
   },
   "file_extension": ".py",
   "mimetype": "text/x-python",
   "name": "python",
   "nbconvert_exporter": "python",
   "pygments_lexer": "ipython3",
   "version": "3.12.0"
  }
 },
 "nbformat": 4,
 "nbformat_minor": 5
}
